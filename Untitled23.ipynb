{
  "nbformat": 4,
  "nbformat_minor": 0,
  "metadata": {
    "colab": {
      "provenance": [],
      "authorship_tag": "ABX9TyPlcZKVC9ActwyWM7/Mh3Fp",
      "include_colab_link": true
    },
    "kernelspec": {
      "name": "python3",
      "display_name": "Python 3"
    },
    "language_info": {
      "name": "python"
    }
  },
  "cells": [
    {
      "cell_type": "markdown",
      "metadata": {
        "id": "view-in-github",
        "colab_type": "text"
      },
      "source": [
        "<a href=\"https://colab.research.google.com/github/aaryapandya12/ml-course-practice/blob/main/Untitled23.ipynb\" target=\"_parent\"><img src=\"https://colab.research.google.com/assets/colab-badge.svg\" alt=\"Open In Colab\"/></a>"
      ]
    },
    {
      "cell_type": "code",
      "execution_count": 1,
      "metadata": {
        "id": "H2uBK41jIoXv"
      },
      "outputs": [],
      "source": [
        "import numpy as np\n",
        "from scipy import stats"
      ]
    },
    {
      "cell_type": "code",
      "source": [
        "sample = [172,174,168,169,171,173,175,170,169,172]\n",
        "sample_mean = np.mean(sample)\n",
        "sample_std = np.std(sample,ddof=1)\n",
        "n = len(sample)\n",
        "mean_population = 170\n"
      ],
      "metadata": {
        "id": "EBKDkXuTIuq_"
      },
      "execution_count": 2,
      "outputs": []
    },
    {
      "cell_type": "code",
      "source": [
        "t_stats = (sample_mean - mean_population) / (sample_std/np.sqrt(n))\n",
        "t_stats"
      ],
      "metadata": {
        "colab": {
          "base_uri": "https://localhost:8080/"
        },
        "id": "woWiLjIGJSkR",
        "outputId": "c1dce1df-762e-4617-ed33-e2687ac2004f"
      },
      "execution_count": 3,
      "outputs": [
        {
          "output_type": "execute_result",
          "data": {
            "text/plain": [
              "np.float64(1.7782469350914734)"
            ]
          },
          "metadata": {},
          "execution_count": 3
        }
      ]
    },
    {
      "cell_type": "code",
      "source": [
        "p_value =  2 * (1 - stats.t.cdf(abs(t_stats),df = n-1))\n",
        "alpha = 0.05"
      ],
      "metadata": {
        "id": "vGmAVs5AJjNZ"
      },
      "execution_count": 4,
      "outputs": []
    },
    {
      "cell_type": "code",
      "source": [
        "if p_value < alpha:\n",
        "  print(\"we will reject the null hypothesis\")\n",
        "else:\n",
        "    print(\"we will accept the null hypothesis\")"
      ],
      "metadata": {
        "colab": {
          "base_uri": "https://localhost:8080/"
        },
        "id": "nVK_A4j3J7hL",
        "outputId": "9526cabe-a870-428f-c0ef-7a081f655979"
      },
      "execution_count": 5,
      "outputs": [
        {
          "output_type": "stream",
          "name": "stdout",
          "text": [
            "we will accept the null hypothesis\n"
          ]
        }
      ]
    },
    {
      "cell_type": "code",
      "source": [],
      "metadata": {
        "id": "2d7VlaGQKE89"
      },
      "execution_count": null,
      "outputs": []
    }
  ]
}