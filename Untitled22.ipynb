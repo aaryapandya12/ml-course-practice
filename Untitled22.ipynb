{
  "nbformat": 4,
  "nbformat_minor": 0,
  "metadata": {
    "colab": {
      "provenance": [],
      "authorship_tag": "ABX9TyPvXgwWbuAAynxrDzVAVbcP",
      "include_colab_link": true
    },
    "kernelspec": {
      "name": "python3",
      "display_name": "Python 3"
    },
    "language_info": {
      "name": "python"
    }
  },
  "cells": [
    {
      "cell_type": "markdown",
      "metadata": {
        "id": "view-in-github",
        "colab_type": "text"
      },
      "source": [
        "<a href=\"https://colab.research.google.com/github/aaryapandya12/ml-course-practice/blob/main/Untitled22.ipynb\" target=\"_parent\"><img src=\"https://colab.research.google.com/assets/colab-badge.svg\" alt=\"Open In Colab\"/></a>"
      ]
    },
    {
      "cell_type": "code",
      "execution_count": 1,
      "metadata": {
        "id": "rlg9K2bsEt8T"
      },
      "outputs": [],
      "source": [
        "import numpy as np\n",
        "from scipy.stats import norm"
      ]
    },
    {
      "cell_type": "code",
      "source": [
        "sample = [172,174,168,169,171,173,175,170,169,172]\n",
        "population_mean = 170\n",
        "population_std = 3\n",
        "samp_mean = np.mean(sample)\n",
        "n = len(sample)"
      ],
      "metadata": {
        "id": "V8DwxpxBE-7W"
      },
      "execution_count": 2,
      "outputs": []
    },
    {
      "cell_type": "code",
      "source": [
        "z_score = (samp_mean - population_mean) / (population_std/np.sqrt(n))\n",
        "z_score"
      ],
      "metadata": {
        "colab": {
          "base_uri": "https://localhost:8080/"
        },
        "id": "_6vQQq4bFbFb",
        "outputId": "c0774e85-7b19-47d2-87ab-00bf20f974f4"
      },
      "execution_count": 3,
      "outputs": [
        {
          "output_type": "execute_result",
          "data": {
            "text/plain": [
              "np.float64(1.3703203194063098)"
            ]
          },
          "metadata": {},
          "execution_count": 3
        }
      ]
    },
    {
      "cell_type": "code",
      "source": [
        "p_value = 2 * (1 - norm.cdf(abs(z_score)))\n",
        "p_value"
      ],
      "metadata": {
        "colab": {
          "base_uri": "https://localhost:8080/"
        },
        "id": "odW9F986FziW",
        "outputId": "6f56606d-3eb9-4e5e-e67c-cfee348702e4"
      },
      "execution_count": 4,
      "outputs": [
        {
          "output_type": "execute_result",
          "data": {
            "text/plain": [
              "np.float64(0.17058693287143756)"
            ]
          },
          "metadata": {},
          "execution_count": 4
        }
      ]
    },
    {
      "cell_type": "code",
      "source": [
        "alpha = 0.05\n",
        "\n",
        "if p_value < alpha:\n",
        "  print(\"I will reject the null hypothesis\")\n",
        "else:\n",
        "  print(\"I will accept the null hypothesis\")"
      ],
      "metadata": {
        "colab": {
          "base_uri": "https://localhost:8080/"
        },
        "id": "gAu0OPR6GJV6",
        "outputId": "5456453a-08b1-48b4-de26-d79d76bd7c49"
      },
      "execution_count": 5,
      "outputs": [
        {
          "output_type": "stream",
          "name": "stdout",
          "text": [
            "I will accept the null hypothesis\n"
          ]
        }
      ]
    },
    {
      "cell_type": "code",
      "source": [],
      "metadata": {
        "id": "vdhxO4dnGiU2"
      },
      "execution_count": null,
      "outputs": []
    }
  ]
}